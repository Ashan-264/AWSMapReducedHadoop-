{
  "cells": [
    {
      "cell_type": "markdown",
      "metadata": {
        "id": "Nr6-ZTWCrmIf"
      },
      "source": [
        "# Lab 5 playground for mapreduce\n",
        "This note book will help you test your mapreduce algorithm without deployment on the EMR environment.\n",
        "\n",
        "This note book is modified from https://colab.research.google.com/drive/17YSsYvnxt_4ZlD2MXOXVyPZNkdW-bA2O"
      ]
    },
    {
      "cell_type": "code",
      "execution_count": null,
      "metadata": {
        "colab": {
          "background_save": true,
          "base_uri": "https://localhost:8080/"
        },
        "id": "5bxjSggnqiPR",
        "outputId": "3871a072-844a-4ad4-cd81-c4250d627c75"
      },
      "outputs": [
        {
          "name": "stdout",
          "output_type": "stream",
          "text": [
            "Collecting mrjob\n",
            "  Downloading mrjob-0.7.4-py2.py3-none-any.whl (439 kB)\n",
            "\u001b[2K     \u001b[90m━━━━━━━━━━━━━━━━━━━━━━━━━━━━━━━━━━━━━━━━\u001b[0m \u001b[32m439.6/439.6 kB\u001b[0m \u001b[31m2.7 MB/s\u001b[0m eta \u001b[36m0:00:00\u001b[0m\n",
            "\u001b[?25hRequirement already satisfied: PyYAML>=3.10 in /usr/local/lib/python3.10/dist-packages (from mrjob) (6.0.1)\n",
            "Installing collected packages: mrjob\n",
            "Successfully installed mrjob-0.7.4\n"
          ]
        }
      ],
      "source": [
        "!pip install mrjob"
      ]
    },
    {
      "cell_type": "markdown",
      "metadata": {
        "id": "aMs7x0rYsXs1"
      },
      "source": [
        "If there are no errors above, then MRJob is properly installed in the system and ready to use.  Let's create a simple MapReduce program to test.  This will save the contents of the cell into a file named mr.py so that we can execute it later."
      ]
    },
    {
      "cell_type": "code",
      "execution_count": null,
      "metadata": {
        "colab": {
          "base_uri": "https://localhost:8080/"
        },
        "id": "H5ZpJ_NMsn6P",
        "outputId": "0c63507c-39ef-4196-9ee9-45f3414b9a36"
      },
      "outputs": [
        {
          "name": "stdout",
          "output_type": "stream",
          "text": [
            "Overwriting mr.py\n"
          ]
        }
      ],
      "source": [
        "%%file mr.py\n",
        "from mrjob.job import MRJob\n",
        "import re\n",
        "\n",
        "class MRmyjob(MRJob):\n",
        "  def mapper(self, _, line):\n",
        "    \"\"\"\n",
        "      Your code for mapper\n",
        "    \"\"\"\n",
        "    pass\n",
        "\n",
        "  def reducer(self, key, list_of_values):\n",
        "    \"\"\"\n",
        "      Your code for reducer\n",
        "    \"\"\"\n",
        "    pass\n",
        "\n",
        "if __name__ == '__main__':\n",
        "    MRmyjob.run()\n"
      ]
    },
    {
      "cell_type": "markdown",
      "metadata": {
        "id": "KzJ3Xe6z3YCu"
      },
      "source": [
        "Now that the code is saved to a file, we can run it.  This will run it locally (not on Hadoop) and process any file you pass in as the first argument (ngram_old.txt, or your own file to be processed, googlebooks-eng-us-all-2gram-20090715-50-subset.txt).  The result will simply be saved to my_answer.txt"
      ]
    },
    {
      "cell_type": "code",
      "execution_count": null,
      "metadata": {
        "colab": {
          "base_uri": "https://localhost:8080/"
        },
        "id": "ygjvuNoMz4Ez",
        "outputId": "25a421fc-97c6-4565-9f65-118c319c861d"
      },
      "outputs": [
        {
          "name": "stdout",
          "output_type": "stream",
          "text": [
            "No configs found; falling back on auto-configuration\n",
            "No configs specified for inline runner\n",
            "Creating temp directory /tmp/mr.root.20240404.191505.599958\n",
            "Running step 1 of 1...\n",
            "job output is in /tmp/mr.root.20240404.191505.599958/output\n",
            "Streaming final output from /tmp/mr.root.20240404.191505.599958/output...\n",
            "Removing temp directory /tmp/mr.root.20240404.191505.599958...\n"
          ]
        }
      ],
      "source": [
        "!python3 mr.py ngram_old.txt > my_answer.txt"
      ]
    },
    {
      "cell_type": "markdown",
      "metadata": {
        "id": "Et6AxrZPrL5L"
      },
      "source": [
        "This piece of code allows you to compare your results to the reference results. Simply upload the solution file to the file directory, say answer_sheet_5.txt"
      ]
    },
    {
      "cell_type": "code",
      "execution_count": null,
      "metadata": {
        "colab": {
          "base_uri": "https://localhost:8080/"
        },
        "id": "YqjCuPmm1LXf",
        "outputId": "8acc2337-711c-47cb-a398-3e78341a02cc"
      },
      "outputs": [
        {
          "data": {
            "text/plain": [
              "True"
            ]
          },
          "execution_count": 44,
          "metadata": {},
          "output_type": "execute_result"
        }
      ],
      "source": [
        "my_answer_set = set([])\n",
        "reference_set = set([])\n",
        "\n",
        "with open(\"answer_sheet_5.txt\",\"r\") as d:\n",
        "  while True:\n",
        "    if not line_a:\n",
        "      break\n",
        "    line_a = d.readline()\n",
        "    linesplit_a = line_a.split(\"\\t\")\n",
        "    reference_set.add((linesplit_a[0],linesplit_a[1]))\n",
        "\n",
        "with open('my_answer.txt', 'r') as f:\n",
        "  while True:\n",
        "    if not line_a:\n",
        "      break\n",
        "    line_f = f.readline()\n",
        "    linesplit_f = line_f.split(\"\\t\")\n",
        "    my_answer_set.add((linesplit_f[0],linesplit_f[1]))\n",
        "\n",
        "my_answer_set == reference_set"
      ]
    },
    {
      "cell_type": "markdown",
      "metadata": {
        "id": "TC1FRb8Tq-CR"
      },
      "source": [
        "The following code allows you to create your own test set."
      ]
    },
    {
      "cell_type": "code",
      "execution_count": null,
      "metadata": {
        "id": "VCv3ZLoKe-SQ"
      },
      "outputs": [],
      "source": [
        "# Generate a random test set\n",
        "count = 0\n",
        "import random\n",
        "random.seed(110)\n",
        "with open(\"ngram_old.txt\",\"r\") as f:\n",
        "  with open(\"test_set.txt\",\"w+\") as d:\n",
        "    while True:\n",
        "      line = f.readline()\n",
        "      if not line:\n",
        "        break\n",
        "      if random.randint(0,1):\n",
        "        count = count+1\n",
        "        d.write(line)\n",
        "      if count == 500:\n",
        "        break\n"
      ]
    }
  ],
  "metadata": {
    "colab": {
      "provenance": []
    },
    "kernelspec": {
      "display_name": "Python 3",
      "name": "python3"
    }
  },
  "nbformat": 4,
  "nbformat_minor": 0
}
